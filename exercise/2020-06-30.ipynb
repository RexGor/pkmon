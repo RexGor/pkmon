{
 "cells": [
  {
   "cell_type": "markdown",
   "metadata": {},
   "source": [
    "# Q1. Write a program to construct the following pattern, using a nested for loop.\n",
    "\n",
    "1<br>\n",
    "1 2<br>\n",
    "1 2 3<br>\n",
    "1 2 3 4<br>\n",
    "1 2 3 4 5<br>\n",
    "1 2 3 4<br>\n",
    "1 2 3<br>\n",
    "1 2<br>\n",
    "1<br>\n"
   ]
  },
  {
   "cell_type": "code",
   "execution_count": 3,
   "metadata": {},
   "outputs": [],
   "source": [
    "# YOUR CODE"
   ]
  },
  {
   "cell_type": "markdown",
   "metadata": {},
   "source": [
    "# Q2. Write a function to read a list of string, convert it to another output list with all UPPER CASES and filter out strings with numbers\n",
    "\n",
    "input_list = [\"Python\", \"brothers\", \"123\", \"h&m\"] <br>\n",
    "expected_output_list = [\"PYTHON\", \"BROTHERS\", \"H&M\"]\n"
   ]
  },
  {
   "cell_type": "code",
   "execution_count": 5,
   "metadata": {},
   "outputs": [],
   "source": [
    "def q2(input_list):\n",
    "    output_list = []\n",
    "    # YOUR CODE\n",
    "    \n",
    "    \n",
    "    \n",
    "    # END OF YOUR CODE    \n",
    "    return output_list"
   ]
  },
  {
   "cell_type": "code",
   "execution_count": null,
   "metadata": {},
   "outputs": [],
   "source": [
    "# IF YOUR CODE IS CORRECT, THIS WILL PASS.\n",
    "input_list = [\"Python\", \"brothers\", \"123\", \"h&m\"]\n",
    "assert q2(input_list) == [\"PYTHON\", \"BROTHERS\", \"H&M\"]"
   ]
  },
  {
   "cell_type": "markdown",
   "metadata": {},
   "source": [
    "# Q3. Create a list of strings based on a list of numbers\n",
    "The rules:\n",
    "\n",
    "* If the number is a multiple of five and odd, the string should be 'five odd'\n",
    "* If the number is a multiple of five and even, the string should be 'five even'\n",
    "* If the number is odd, the string is 'odd'\n",
    "* If the number is even, the string is 'even'"
   ]
  },
  {
   "cell_type": "code",
   "execution_count": 9,
   "metadata": {},
   "outputs": [],
   "source": [
    "numbers = [1, 3, 4, 6, 81, 80, 100, 95]"
   ]
  },
  {
   "cell_type": "code",
   "execution_count": null,
   "metadata": {},
   "outputs": [],
   "source": [
    "# YOU CODE\n",
    "my_list = "
   ]
  },
  {
   "cell_type": "code",
   "execution_count": null,
   "metadata": {},
   "outputs": [],
   "source": [
    "# IF YOUR CODE IS CORRECT, THIS WILL PASS.\n",
    "assert my_list == ['odd', 'odd', 'even', 'even', 'odd', 'five even', 'five even', 'five odd']"
   ]
  },
  {
   "cell_type": "code",
   "execution_count": null,
   "metadata": {},
   "outputs": [],
   "source": []
  }
 ],
 "metadata": {
  "kernelspec": {
   "display_name": "Python [default]",
   "language": "python",
   "name": "python3"
  },
  "language_info": {
   "codemirror_mode": {
    "name": "ipython",
    "version": 3
   },
   "file_extension": ".py",
   "mimetype": "text/x-python",
   "name": "python",
   "nbconvert_exporter": "python",
   "pygments_lexer": "ipython3",
   "version": "3.6.5"
  }
 },
 "nbformat": 4,
 "nbformat_minor": 2
}
