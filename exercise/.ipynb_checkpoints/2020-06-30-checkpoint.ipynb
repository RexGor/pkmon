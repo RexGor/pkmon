{
 "cells": [],
 "metadata": {},
 "nbformat": 4,
 "nbformat_minor": 2
}
n=int(input("enter n value:"))
start_no=int(input("enter start no. value:"))
for i in range(n):
    for j in range(i+1):
        print(int(start_no+j),end=" ")
    print()
for i in range(n-1):
    for j in range(n-i-1):
        print(int(start_no+j),end=" ")
    print()
#n = 5; start_=1#
